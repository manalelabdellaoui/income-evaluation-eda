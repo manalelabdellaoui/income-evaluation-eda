{
 "cells": [
  {
   "cell_type": "markdown",
   "id": "bcca207a-2e12-46fa-9ead-e03fac2a02be",
   "metadata": {},
   "source": [
    "# Income Evaluation - Part 1: Data Cleaning"
   ]
  },
  {
   "cell_type": "markdown",
   "id": "7d5489fd-3671-4195-8f5b-9cbf11a1d458",
   "metadata": {},
   "source": [
    "## 1. Importing Dataset and Necessary Packages"
   ]
  },
  {
   "cell_type": "code",
   "execution_count": 1,
   "id": "79f1dbca-0bf3-4144-9416-3157ab415200",
   "metadata": {},
   "outputs": [],
   "source": [
    "import numpy as np                           # linear algebra\n",
    "import os                                    # package used to set work directory\n",
    "import pandas as pd                          # package used to create dataframes\n",
    "import re                                    # regular expressions\n",
    "\n",
    "from operator import itemgetter              # package used for sorted, max, min "
   ]
  },
  {
   "cell_type": "code",
   "execution_count": 2,
   "id": "28d78658-c742-4b40-a710-8d50f894d3f2",
   "metadata": {},
   "outputs": [],
   "source": [
    "data = pd.read_csv('income_evaluation.csv')"
   ]
  },
  {
   "cell_type": "code",
   "execution_count": 3,
   "id": "be3e35b6-c65f-49ce-bb45-a250dc631dd9",
   "metadata": {},
   "outputs": [
    {
     "name": "stdout",
     "output_type": "stream",
     "text": [
      "<class 'pandas.core.frame.DataFrame'>\n",
      "RangeIndex: 32561 entries, 0 to 32560\n",
      "Data columns (total 15 columns):\n",
      " #   Column           Non-Null Count  Dtype \n",
      "---  ------           --------------  ----- \n",
      " 0   age              32561 non-null  int64 \n",
      " 1    workclass       32561 non-null  object\n",
      " 2    fnlwgt          32561 non-null  int64 \n",
      " 3    education       32561 non-null  object\n",
      " 4    education-num   32561 non-null  int64 \n",
      " 5    marital-status  32561 non-null  object\n",
      " 6    occupation      32561 non-null  object\n",
      " 7    relationship    32561 non-null  object\n",
      " 8    race            32561 non-null  object\n",
      " 9    sex             32561 non-null  object\n",
      " 10   capital-gain    32561 non-null  int64 \n",
      " 11   capital-loss    32561 non-null  int64 \n",
      " 12   hours-per-week  32561 non-null  int64 \n",
      " 13   native-country  32561 non-null  object\n",
      " 14   income          32561 non-null  object\n",
      "dtypes: int64(6), object(9)\n",
      "memory usage: 3.7+ MB\n"
     ]
    }
   ],
   "source": [
    "data.info()"
   ]
  },
  {
   "cell_type": "markdown",
   "id": "44c0b5c7-34b3-4c93-99a1-c56d40c14e10",
   "metadata": {},
   "source": [
    "We have 15 columns, 32,561 rows and, fortunately, no missing values. Some of the columns are completely numerical. An interesting thing is that the numerical values are all integer, which indicates that some of these have actually been rounded to the nearest integers. According to the source, the rest of the columns consist of string values. One of the columns has a name, `fnlwgt`, that doesn't really explain what it is and it is not explained in the source. Some googling teaches us that this should be seen as a weight. The number in this column respresents the number of people in the population for which the data hold. The source of the data set says that the column `income` is binary: it's either '<=50k' or '>50k'. The column names have a space before the name except for `age`. That should be addressed first."
   ]
  },
  {
   "cell_type": "markdown",
   "id": "daffd68f-6b70-480e-bb85-d044a449c8fe",
   "metadata": {},
   "source": [
    "## 2. Data Cleaning"
   ]
  },
  {
   "cell_type": "code",
   "execution_count": 4,
   "id": "d15c92f0-c442-4577-9287-bcbcb6bea501",
   "metadata": {},
   "outputs": [],
   "source": [
    "df = data.copy()"
   ]
  },
  {
   "cell_type": "markdown",
   "id": "e188f651-6213-40fe-be85-91e298df252f",
   "metadata": {},
   "source": [
    "We'll start by fixing the column names."
   ]
  },
  {
   "cell_type": "code",
   "execution_count": 5,
   "id": "13db7f87-4d48-4d9f-a0b8-334bf375c4b5",
   "metadata": {},
   "outputs": [
    {
     "name": "stdout",
     "output_type": "stream",
     "text": [
      "Index(['age', 'workclass', 'fnlwgt', 'education', 'education_num',\n",
      "       'marital_status', 'occupation', 'relationship', 'race', 'sex',\n",
      "       'capital_gain', 'capital_loss', 'hours_per_week', 'native_country',\n",
      "       'income'],\n",
      "      dtype='object')\n"
     ]
    }
   ],
   "source": [
    "df.columns = [col_name.strip(' ').replace('-', '_') for col_name in df.columns.to_list()]\n",
    "print(df.columns)"
   ]
  },
  {
   "cell_type": "markdown",
   "id": "376eaa15-5c56-477a-991c-2da6e5c5f98c",
   "metadata": {},
   "source": [
    "Now let's see what the data looks like."
   ]
  },
  {
   "cell_type": "code",
   "execution_count": 6,
   "id": "a8e01e03-e27f-4839-9007-8ae23a578dfd",
   "metadata": {},
   "outputs": [
    {
     "name": "stdout",
     "output_type": "stream",
     "text": [
      "   age          workclass  fnlwgt   education  education_num  \\\n",
      "0   39          State-gov   77516   Bachelors             13   \n",
      "1   50   Self-emp-not-inc   83311   Bachelors             13   \n",
      "2   38            Private  215646     HS-grad              9   \n",
      "3   53            Private  234721        11th              7   \n",
      "4   28            Private  338409   Bachelors             13   \n",
      "\n",
      "        marital_status          occupation    relationship    race      sex  \\\n",
      "0        Never-married        Adm-clerical   Not-in-family   White     Male   \n",
      "1   Married-civ-spouse     Exec-managerial         Husband   White     Male   \n",
      "2             Divorced   Handlers-cleaners   Not-in-family   White     Male   \n",
      "3   Married-civ-spouse   Handlers-cleaners         Husband   Black     Male   \n",
      "4   Married-civ-spouse      Prof-specialty            Wife   Black   Female   \n",
      "\n",
      "   capital_gain  capital_loss  hours_per_week  native_country  income  \n",
      "0          2174             0              40   United-States   <=50K  \n",
      "1             0             0              13   United-States   <=50K  \n",
      "2             0             0              40   United-States   <=50K  \n",
      "3             0             0              40   United-States   <=50K  \n",
      "4             0             0              40            Cuba   <=50K  \n"
     ]
    }
   ],
   "source": [
    "pd.set_option('display.max_columns', None)    # shows all columns\n",
    "print(df.head())"
   ]
  },
  {
   "cell_type": "markdown",
   "id": "d586520d-be46-4087-addf-9945fcde0359",
   "metadata": {},
   "source": [
    "Just like the column names, the categorical labels also contain characters like dashes and spaces. The dashes will be replaces by underscores and the spaces will be stripped off."
   ]
  },
  {
   "cell_type": "code",
   "execution_count": 7,
   "id": "1d25e0f5-aee9-458e-90fb-5098a1845ecf",
   "metadata": {},
   "outputs": [],
   "source": [
    "df[df.select_dtypes('O').columns] = df[df.select_dtypes('O').columns].apply(\n",
    "    lambda x: x.str.strip(' ').str.replace('-', '_')\n",
    ")"
   ]
  },
  {
   "cell_type": "markdown",
   "id": "ff98a65a-4a67-4c27-aa60-c0aed53b7748",
   "metadata": {},
   "source": [
    "In section 1, we saw that there were no missing values. We have to check for duplicates as well."
   ]
  },
  {
   "cell_type": "code",
   "execution_count": 8,
   "id": "a664ef1a-7afc-4e18-84a4-da5a6c70fa37",
   "metadata": {},
   "outputs": [
    {
     "data": {
      "text/plain": [
       "24"
      ]
     },
     "execution_count": 8,
     "metadata": {},
     "output_type": "execute_result"
    }
   ],
   "source": [
    "sum(df.duplicated())"
   ]
  },
  {
   "cell_type": "markdown",
   "id": "dcb2d5a5-6aa4-4d08-babb-065ca3fcaae3",
   "metadata": {},
   "source": [
    "There are some duplicates which we will remove from the dataset."
   ]
  },
  {
   "cell_type": "code",
   "execution_count": 9,
   "id": "859a73be-8fda-4ba4-93dc-7b285758d4ce",
   "metadata": {},
   "outputs": [],
   "source": [
    "df.drop_duplicates(inplace=True)"
   ]
  },
  {
   "cell_type": "markdown",
   "id": "e80e4514-243a-472c-9ddb-b5aa6d55b60c",
   "metadata": {},
   "source": [
    "Now we can dive into the data. We want to see how many unique values there are for each string column."
   ]
  },
  {
   "cell_type": "code",
   "execution_count": 10,
   "id": "a44585c3-a1fd-46bf-b728-4e5740ad85a5",
   "metadata": {},
   "outputs": [
    {
     "data": {
      "text/html": [
       "<div>\n",
       "<style scoped>\n",
       "    .dataframe tbody tr th:only-of-type {\n",
       "        vertical-align: middle;\n",
       "    }\n",
       "\n",
       "    .dataframe tbody tr th {\n",
       "        vertical-align: top;\n",
       "    }\n",
       "\n",
       "    .dataframe thead th {\n",
       "        text-align: right;\n",
       "    }\n",
       "</style>\n",
       "<table border=\"1\" class=\"dataframe\">\n",
       "  <thead>\n",
       "    <tr style=\"text-align: right;\">\n",
       "      <th></th>\n",
       "      <th># unique values</th>\n",
       "    </tr>\n",
       "  </thead>\n",
       "  <tbody>\n",
       "    <tr>\n",
       "      <th>workclass</th>\n",
       "      <td>9</td>\n",
       "    </tr>\n",
       "    <tr>\n",
       "      <th>education</th>\n",
       "      <td>16</td>\n",
       "    </tr>\n",
       "    <tr>\n",
       "      <th>marital_status</th>\n",
       "      <td>7</td>\n",
       "    </tr>\n",
       "    <tr>\n",
       "      <th>occupation</th>\n",
       "      <td>15</td>\n",
       "    </tr>\n",
       "    <tr>\n",
       "      <th>relationship</th>\n",
       "      <td>6</td>\n",
       "    </tr>\n",
       "    <tr>\n",
       "      <th>race</th>\n",
       "      <td>5</td>\n",
       "    </tr>\n",
       "    <tr>\n",
       "      <th>sex</th>\n",
       "      <td>2</td>\n",
       "    </tr>\n",
       "    <tr>\n",
       "      <th>native_country</th>\n",
       "      <td>42</td>\n",
       "    </tr>\n",
       "    <tr>\n",
       "      <th>income</th>\n",
       "      <td>2</td>\n",
       "    </tr>\n",
       "  </tbody>\n",
       "</table>\n",
       "</div>"
      ],
      "text/plain": [
       "                # unique values\n",
       "workclass                     9\n",
       "education                    16\n",
       "marital_status                7\n",
       "occupation                   15\n",
       "relationship                  6\n",
       "race                          5\n",
       "sex                           2\n",
       "native_country               42\n",
       "income                        2"
      ]
     },
     "execution_count": 10,
     "metadata": {},
     "output_type": "execute_result"
    }
   ],
   "source": [
    "df.select_dtypes(include='O').nunique().to_frame('# unique values')"
   ]
  },
  {
   "cell_type": "markdown",
   "id": "f89f215c-0ea2-4e66-932c-7a069d8535e2",
   "metadata": {},
   "source": [
    "There are two binary columns: the last one containing the income, which we already knew and a`sex`. The other non-numerical columns all have more than two unique values. We can create dummies for these two binary columns if there is a need for it in further analysis."
   ]
  },
  {
   "cell_type": "markdown",
   "id": "485e1e09-4548-4249-b46a-ebebe7e380d4",
   "metadata": {},
   "source": [
    "### 2.1 Education"
   ]
  },
  {
   "cell_type": "markdown",
   "id": "1f10bb9c-5c2e-4c53-bc5b-3839abf759e0",
   "metadata": {},
   "source": [
    "We're going through the categorical columns one by one starting with education. There are two columns for education: a numerical and a textual one."
   ]
  },
  {
   "cell_type": "code",
   "execution_count": 11,
   "id": "114262d3-8d9c-45c1-8560-9b749b96582a",
   "metadata": {},
   "outputs": [
    {
     "data": {
      "text/plain": [
       "education\n",
       "HS_grad         10494\n",
       "Some_college     7282\n",
       "Bachelors        5353\n",
       "Masters          1722\n",
       "Assoc_voc        1382\n",
       "11th             1175\n",
       "Assoc_acdm       1067\n",
       "10th              933\n",
       "7th_8th           645\n",
       "Prof_school       576\n",
       "9th               514\n",
       "12th              433\n",
       "Doctorate         413\n",
       "5th_6th           332\n",
       "1st_4th           166\n",
       "Preschool          50\n",
       "Name: count, dtype: int64"
      ]
     },
     "execution_count": 11,
     "metadata": {},
     "output_type": "execute_result"
    }
   ],
   "source": [
    "df['education'].value_counts()"
   ]
  },
  {
   "cell_type": "markdown",
   "id": "d4f4e037-3b5a-449c-9e94-f1a3952da02e",
   "metadata": {},
   "source": [
    "Let's match the two columns to see if it all makes sense."
   ]
  },
  {
   "cell_type": "code",
   "execution_count": 12,
   "id": "cfc53e26-8b2a-4ba2-be37-663b88fdda93",
   "metadata": {},
   "outputs": [
    {
     "data": {
      "text/html": [
       "<div>\n",
       "<style scoped>\n",
       "    .dataframe tbody tr th:only-of-type {\n",
       "        vertical-align: middle;\n",
       "    }\n",
       "\n",
       "    .dataframe tbody tr th {\n",
       "        vertical-align: top;\n",
       "    }\n",
       "\n",
       "    .dataframe thead th {\n",
       "        text-align: right;\n",
       "    }\n",
       "</style>\n",
       "<table border=\"1\" class=\"dataframe\">\n",
       "  <thead>\n",
       "    <tr style=\"text-align: right;\">\n",
       "      <th></th>\n",
       "      <th>education</th>\n",
       "    </tr>\n",
       "    <tr>\n",
       "      <th>education_num</th>\n",
       "      <th></th>\n",
       "    </tr>\n",
       "  </thead>\n",
       "  <tbody>\n",
       "    <tr>\n",
       "      <th>1</th>\n",
       "      <td>Preschool</td>\n",
       "    </tr>\n",
       "    <tr>\n",
       "      <th>2</th>\n",
       "      <td>1st_4th</td>\n",
       "    </tr>\n",
       "    <tr>\n",
       "      <th>3</th>\n",
       "      <td>5th_6th</td>\n",
       "    </tr>\n",
       "    <tr>\n",
       "      <th>4</th>\n",
       "      <td>7th_8th</td>\n",
       "    </tr>\n",
       "    <tr>\n",
       "      <th>5</th>\n",
       "      <td>9th</td>\n",
       "    </tr>\n",
       "    <tr>\n",
       "      <th>6</th>\n",
       "      <td>10th</td>\n",
       "    </tr>\n",
       "    <tr>\n",
       "      <th>7</th>\n",
       "      <td>11th</td>\n",
       "    </tr>\n",
       "    <tr>\n",
       "      <th>8</th>\n",
       "      <td>12th</td>\n",
       "    </tr>\n",
       "    <tr>\n",
       "      <th>9</th>\n",
       "      <td>HS_grad</td>\n",
       "    </tr>\n",
       "    <tr>\n",
       "      <th>10</th>\n",
       "      <td>Some_college</td>\n",
       "    </tr>\n",
       "    <tr>\n",
       "      <th>11</th>\n",
       "      <td>Assoc_voc</td>\n",
       "    </tr>\n",
       "    <tr>\n",
       "      <th>12</th>\n",
       "      <td>Assoc_acdm</td>\n",
       "    </tr>\n",
       "    <tr>\n",
       "      <th>13</th>\n",
       "      <td>Bachelors</td>\n",
       "    </tr>\n",
       "    <tr>\n",
       "      <th>14</th>\n",
       "      <td>Masters</td>\n",
       "    </tr>\n",
       "    <tr>\n",
       "      <th>15</th>\n",
       "      <td>Prof_school</td>\n",
       "    </tr>\n",
       "    <tr>\n",
       "      <th>16</th>\n",
       "      <td>Doctorate</td>\n",
       "    </tr>\n",
       "  </tbody>\n",
       "</table>\n",
       "</div>"
      ],
      "text/plain": [
       "                  education\n",
       "education_num              \n",
       "1                 Preschool\n",
       "2                   1st_4th\n",
       "3                   5th_6th\n",
       "4                   7th_8th\n",
       "5                       9th\n",
       "6                      10th\n",
       "7                      11th\n",
       "8                      12th\n",
       "9                   HS_grad\n",
       "10             Some_college\n",
       "11                Assoc_voc\n",
       "12               Assoc_acdm\n",
       "13                Bachelors\n",
       "14                  Masters\n",
       "15              Prof_school\n",
       "16                Doctorate"
      ]
     },
     "execution_count": 12,
     "metadata": {},
     "output_type": "execute_result"
    }
   ],
   "source": [
    "df[['education', 'education_num']].drop_duplicates().sort_values('education_num').set_index('education_num')"
   ]
  },
  {
   "cell_type": "markdown",
   "id": "a2fae016-28f4-46fd-9d43-8d3c6908571c",
   "metadata": {},
   "source": [
    "So the `education_num` works as we would want it to."
   ]
  },
  {
   "cell_type": "markdown",
   "id": "ee447cf7-73cf-4e3e-b0f1-d56c6a8e1bfb",
   "metadata": {},
   "source": [
    "### 2.2 Workclass"
   ]
  },
  {
   "cell_type": "code",
   "execution_count": 13,
   "id": "a8b80e06-abba-4690-b6d9-6fe439eb6e12",
   "metadata": {},
   "outputs": [
    {
     "data": {
      "text/plain": [
       "workclass\n",
       "Private             22673\n",
       "Self_emp_not_inc     2540\n",
       "Local_gov            2093\n",
       "?                    1836\n",
       "State_gov            1298\n",
       "Self_emp_inc         1116\n",
       "Federal_gov           960\n",
       "Without_pay            14\n",
       "Never_worked            7\n",
       "Name: count, dtype: int64"
      ]
     },
     "execution_count": 13,
     "metadata": {},
     "output_type": "execute_result"
    }
   ],
   "source": [
    "df['workclass'].value_counts()"
   ]
  },
  {
   "cell_type": "markdown",
   "id": "292b0a7b-6a02-4f04-8179-7a86d4060c48",
   "metadata": {},
   "source": [
    "We'll replace *'?'* by *'Unknown'*."
   ]
  },
  {
   "cell_type": "code",
   "execution_count": 14,
   "id": "55838208-05bd-44e6-8fbf-d1a43cafd9a1",
   "metadata": {},
   "outputs": [],
   "source": [
    "df['workclass'] = df['workclass'].str.replace('?', 'Unknown')"
   ]
  },
  {
   "cell_type": "markdown",
   "id": "59f74ecb-23b0-4479-999f-7249b87c0995",
   "metadata": {},
   "source": [
    "## 2.3 Marital Status"
   ]
  },
  {
   "cell_type": "code",
   "execution_count": 15,
   "id": "37c0ce79-c87e-4dfd-a9d2-c3a95ff5f439",
   "metadata": {},
   "outputs": [
    {
     "data": {
      "text/plain": [
       "marital_status\n",
       "Married_civ_spouse       14970\n",
       "Never_married            10667\n",
       "Divorced                  4441\n",
       "Separated                 1025\n",
       "Widowed                    993\n",
       "Married_spouse_absent      418\n",
       "Married_AF_spouse           23\n",
       "Name: count, dtype: int64"
      ]
     },
     "execution_count": 15,
     "metadata": {},
     "output_type": "execute_result"
    }
   ],
   "source": [
    "df['marital_status'].value_counts()"
   ]
  },
  {
   "cell_type": "markdown",
   "id": "a8e6ab29-3e0a-4ece-9695-b2ca48d82a49",
   "metadata": {},
   "source": [
    "Nothing out of place here."
   ]
  },
  {
   "cell_type": "markdown",
   "id": "bfd55102-d238-4960-be7d-c12aa2e27fa1",
   "metadata": {},
   "source": [
    "### 2.4 Relationship"
   ]
  },
  {
   "cell_type": "code",
   "execution_count": 16,
   "id": "2fe28699-d704-4174-9882-137c49d1336e",
   "metadata": {},
   "outputs": [
    {
     "data": {
      "text/plain": [
       "relationship\n",
       "Husband           13187\n",
       "Not_in_family      8292\n",
       "Own_child          5064\n",
       "Unmarried          3445\n",
       "Wife               1568\n",
       "Other_relative      981\n",
       "Name: count, dtype: int64"
      ]
     },
     "execution_count": 16,
     "metadata": {},
     "output_type": "execute_result"
    }
   ],
   "source": [
    "df['relationship'].value_counts()"
   ]
  },
  {
   "cell_type": "markdown",
   "id": "cab77aa6-e0e5-42aa-96b2-0cf83c043d78",
   "metadata": {},
   "source": [
    "Let's see if the genders match the martial status."
   ]
  },
  {
   "cell_type": "code",
   "execution_count": 17,
   "id": "2efc05f2-0e7e-481a-a687-98e4d3172196",
   "metadata": {},
   "outputs": [
    {
     "data": {
      "text/plain": [
       "sex\n",
       "Male      13186\n",
       "Female        1\n",
       "Name: count, dtype: int64"
      ]
     },
     "execution_count": 17,
     "metadata": {},
     "output_type": "execute_result"
    }
   ],
   "source": [
    "df.loc[df['relationship'] == 'Husband', 'sex'].value_counts()"
   ]
  },
  {
   "cell_type": "code",
   "execution_count": 18,
   "id": "256a08ce-94ff-480d-b77c-dfa8ab17cf44",
   "metadata": {},
   "outputs": [
    {
     "data": {
      "text/plain": [
       "sex\n",
       "Female    1566\n",
       "Male         2\n",
       "Name: count, dtype: int64"
      ]
     },
     "execution_count": 18,
     "metadata": {},
     "output_type": "execute_result"
    }
   ],
   "source": [
    "df.loc[df['relationship'] == 'Wife', 'sex'].value_counts()"
   ]
  },
  {
   "cell_type": "code",
   "execution_count": 19,
   "id": "b494a0e0-3f0a-404c-b578-43bc9293fc04",
   "metadata": {},
   "outputs": [
    {
     "data": {
      "text/html": [
       "<div>\n",
       "<style scoped>\n",
       "    .dataframe tbody tr th:only-of-type {\n",
       "        vertical-align: middle;\n",
       "    }\n",
       "\n",
       "    .dataframe tbody tr th {\n",
       "        vertical-align: top;\n",
       "    }\n",
       "\n",
       "    .dataframe thead th {\n",
       "        text-align: right;\n",
       "    }\n",
       "</style>\n",
       "<table border=\"1\" class=\"dataframe\">\n",
       "  <thead>\n",
       "    <tr style=\"text-align: right;\">\n",
       "      <th></th>\n",
       "      <th>age</th>\n",
       "      <th>workclass</th>\n",
       "      <th>fnlwgt</th>\n",
       "      <th>education</th>\n",
       "      <th>education_num</th>\n",
       "      <th>marital_status</th>\n",
       "      <th>occupation</th>\n",
       "      <th>relationship</th>\n",
       "      <th>race</th>\n",
       "      <th>sex</th>\n",
       "      <th>capital_gain</th>\n",
       "      <th>capital_loss</th>\n",
       "      <th>hours_per_week</th>\n",
       "      <th>native_country</th>\n",
       "      <th>income</th>\n",
       "    </tr>\n",
       "  </thead>\n",
       "  <tbody>\n",
       "    <tr>\n",
       "      <th>7109</th>\n",
       "      <td>34</td>\n",
       "      <td>Private</td>\n",
       "      <td>175878</td>\n",
       "      <td>HS_grad</td>\n",
       "      <td>9</td>\n",
       "      <td>Married_civ_spouse</td>\n",
       "      <td>Sales</td>\n",
       "      <td>Husband</td>\n",
       "      <td>White</td>\n",
       "      <td>Female</td>\n",
       "      <td>0</td>\n",
       "      <td>0</td>\n",
       "      <td>40</td>\n",
       "      <td>United_States</td>\n",
       "      <td>&lt;=50K</td>\n",
       "    </tr>\n",
       "  </tbody>\n",
       "</table>\n",
       "</div>"
      ],
      "text/plain": [
       "      age workclass  fnlwgt education  education_num      marital_status  \\\n",
       "7109   34   Private  175878   HS_grad              9  Married_civ_spouse   \n",
       "\n",
       "     occupation relationship   race     sex  capital_gain  capital_loss  \\\n",
       "7109      Sales      Husband  White  Female             0             0   \n",
       "\n",
       "      hours_per_week native_country income  \n",
       "7109              40  United_States  <=50K  "
      ]
     },
     "execution_count": 19,
     "metadata": {},
     "output_type": "execute_result"
    }
   ],
   "source": [
    "df.loc[(df['relationship'] == 'Husband') & (df['sex'] == 'Female')]"
   ]
  },
  {
   "cell_type": "code",
   "execution_count": 20,
   "id": "446605a8-c8de-45df-81fb-b4f73b5d7607",
   "metadata": {},
   "outputs": [
    {
     "data": {
      "text/html": [
       "<div>\n",
       "<style scoped>\n",
       "    .dataframe tbody tr th:only-of-type {\n",
       "        vertical-align: middle;\n",
       "    }\n",
       "\n",
       "    .dataframe tbody tr th {\n",
       "        vertical-align: top;\n",
       "    }\n",
       "\n",
       "    .dataframe thead th {\n",
       "        text-align: right;\n",
       "    }\n",
       "</style>\n",
       "<table border=\"1\" class=\"dataframe\">\n",
       "  <thead>\n",
       "    <tr style=\"text-align: right;\">\n",
       "      <th></th>\n",
       "      <th>age</th>\n",
       "      <th>workclass</th>\n",
       "      <th>fnlwgt</th>\n",
       "      <th>education</th>\n",
       "      <th>education_num</th>\n",
       "      <th>marital_status</th>\n",
       "      <th>occupation</th>\n",
       "      <th>relationship</th>\n",
       "      <th>race</th>\n",
       "      <th>sex</th>\n",
       "      <th>capital_gain</th>\n",
       "      <th>capital_loss</th>\n",
       "      <th>hours_per_week</th>\n",
       "      <th>native_country</th>\n",
       "      <th>income</th>\n",
       "    </tr>\n",
       "  </thead>\n",
       "  <tbody>\n",
       "    <tr>\n",
       "      <th>575</th>\n",
       "      <td>29</td>\n",
       "      <td>Private</td>\n",
       "      <td>350162</td>\n",
       "      <td>Bachelors</td>\n",
       "      <td>13</td>\n",
       "      <td>Married_civ_spouse</td>\n",
       "      <td>Exec_managerial</td>\n",
       "      <td>Wife</td>\n",
       "      <td>White</td>\n",
       "      <td>Male</td>\n",
       "      <td>0</td>\n",
       "      <td>0</td>\n",
       "      <td>40</td>\n",
       "      <td>United_States</td>\n",
       "      <td>&gt;50K</td>\n",
       "    </tr>\n",
       "    <tr>\n",
       "      <th>27141</th>\n",
       "      <td>36</td>\n",
       "      <td>Private</td>\n",
       "      <td>74791</td>\n",
       "      <td>Bachelors</td>\n",
       "      <td>13</td>\n",
       "      <td>Married_civ_spouse</td>\n",
       "      <td>Sales</td>\n",
       "      <td>Wife</td>\n",
       "      <td>White</td>\n",
       "      <td>Male</td>\n",
       "      <td>0</td>\n",
       "      <td>0</td>\n",
       "      <td>60</td>\n",
       "      <td>?</td>\n",
       "      <td>&lt;=50K</td>\n",
       "    </tr>\n",
       "  </tbody>\n",
       "</table>\n",
       "</div>"
      ],
      "text/plain": [
       "       age workclass  fnlwgt  education  education_num      marital_status  \\\n",
       "575     29   Private  350162  Bachelors             13  Married_civ_spouse   \n",
       "27141   36   Private   74791  Bachelors             13  Married_civ_spouse   \n",
       "\n",
       "            occupation relationship   race   sex  capital_gain  capital_loss  \\\n",
       "575    Exec_managerial         Wife  White  Male             0             0   \n",
       "27141            Sales         Wife  White  Male             0             0   \n",
       "\n",
       "       hours_per_week native_country income  \n",
       "575                40  United_States   >50K  \n",
       "27141              60              ?  <=50K  "
      ]
     },
     "execution_count": 20,
     "metadata": {},
     "output_type": "execute_result"
    }
   ],
   "source": [
    "df.loc[(df['relationship'] == 'Wife') & (df['sex'] == 'Male')]"
   ]
  },
  {
   "cell_type": "markdown",
   "id": "f9abf064-3ba2-4ef4-b6b9-e7c456e3d837",
   "metadata": {},
   "source": [
    "There is clearly an inconsistency here. Husbands are not female and wives are not male. They are all married (to civilians), so they have to be either a husband or a wife. Since there are only two options for sex and multiple for relationship, we will make the educated guess that the sex is correctly documented and the mistake is made in the relationship column."
   ]
  },
  {
   "cell_type": "code",
   "execution_count": 21,
   "id": "f071db45-d9ff-400c-8cbe-e38a681a6981",
   "metadata": {},
   "outputs": [],
   "source": [
    "df.loc[(df['relationship'] == 'Husband') & (df['sex'] == 'Female'), 'relationship'] = 'Wife'\n",
    "df.loc[(df['relationship'] == 'Wife') & (df['sex'] == 'Male'), 'relationship'] = 'Husband'"
   ]
  },
  {
   "cell_type": "code",
   "execution_count": 22,
   "id": "2ab54a57-e45d-4a2c-933f-9ee7c88b3479",
   "metadata": {},
   "outputs": [
    {
     "data": {
      "text/plain": [
       "marital_status\n",
       "Married_civ_spouse    13179\n",
       "Married_AF_spouse         9\n",
       "Name: count, dtype: int64"
      ]
     },
     "execution_count": 22,
     "metadata": {},
     "output_type": "execute_result"
    }
   ],
   "source": [
    "df.loc[df['relationship'] == 'Husband', 'marital_status'].value_counts()"
   ]
  },
  {
   "cell_type": "code",
   "execution_count": 23,
   "id": "1eeba7cf-dbdf-439b-9963-5093ff94c92d",
   "metadata": {},
   "outputs": [
    {
     "data": {
      "text/plain": [
       "marital_status\n",
       "Married_civ_spouse    1555\n",
       "Married_AF_spouse       12\n",
       "Name: count, dtype: int64"
      ]
     },
     "execution_count": 23,
     "metadata": {},
     "output_type": "execute_result"
    }
   ],
   "source": [
    "df.loc[df['relationship'] == 'Wife', 'marital_status'].value_counts()"
   ]
  },
  {
   "cell_type": "markdown",
   "id": "c5247814-1ac1-4953-851d-52cbd782b3f6",
   "metadata": {},
   "source": [
    "All husbands and wives are married."
   ]
  },
  {
   "cell_type": "code",
   "execution_count": 24,
   "id": "2e3ec806-a002-4e6d-9d93-30bbadb1e3b7",
   "metadata": {},
   "outputs": [
    {
     "data": {
      "text/plain": [
       "marital_status\n",
       "Divorced                 1600\n",
       "Never_married             881\n",
       "Separated                 451\n",
       "Widowed                   383\n",
       "Married_spouse_absent     130\n",
       "Name: count, dtype: int64"
      ]
     },
     "execution_count": 24,
     "metadata": {},
     "output_type": "execute_result"
    }
   ],
   "source": [
    "df.loc[df['relationship'] == 'Unmarried', 'marital_status'].value_counts()"
   ]
  },
  {
   "cell_type": "markdown",
   "id": "89d9afba-927e-4df0-a0d8-f41feeb2e1cb",
   "metadata": {},
   "source": [
    "Interestingly, married people with an absent spouse are considered to be unmarried."
   ]
  },
  {
   "cell_type": "code",
   "execution_count": 25,
   "id": "e22a8d90-b8f8-4c25-9b69-9c9f53a11c42",
   "metadata": {},
   "outputs": [
    {
     "data": {
      "text/plain": [
       "marital_status\n",
       "Never_married            4481\n",
       "Divorced                  328\n",
       "Separated                  99\n",
       "Married_civ_spouse         95\n",
       "Married_spouse_absent      45\n",
       "Widowed                    15\n",
       "Married_AF_spouse           1\n",
       "Name: count, dtype: int64"
      ]
     },
     "execution_count": 25,
     "metadata": {},
     "output_type": "execute_result"
    }
   ],
   "source": [
    "df.loc[df['relationship'] == 'Own_child', 'marital_status'].value_counts()"
   ]
  },
  {
   "cell_type": "markdown",
   "id": "a9adcedb-7f5b-49ee-9135-d366b5df1d83",
   "metadata": {},
   "source": [
    "There are quite some people that are married, but live with their parents regardless. The parents are the heads of the household, so the relationship is set to `Own_child`."
   ]
  },
  {
   "cell_type": "code",
   "execution_count": 26,
   "id": "c1a98123-4425-4e94-9bca-ba17b02ae8a4",
   "metadata": {},
   "outputs": [
    {
     "data": {
      "text/plain": [
       "count    5064.000000\n",
       "mean       24.832148\n",
       "std         8.117585\n",
       "min        17.000000\n",
       "25%        19.000000\n",
       "50%        22.000000\n",
       "75%        27.000000\n",
       "max        90.000000\n",
       "Name: age, dtype: float64"
      ]
     },
     "execution_count": 26,
     "metadata": {},
     "output_type": "execute_result"
    }
   ],
   "source": [
    "df.loc[df['relationship'] == 'Own_child', 'age'].describe()"
   ]
  },
  {
   "cell_type": "markdown",
   "id": "1274c7dd-e52f-4b4c-8d44-060d07f4a51f",
   "metadata": {},
   "source": [
    "There seems to be a 90 year old that lives with their parent(s), which would be remarkable if true."
   ]
  },
  {
   "cell_type": "code",
   "execution_count": 27,
   "id": "4cf2899c-4dcc-4c16-a6d3-eea2f3de71ec",
   "metadata": {},
   "outputs": [
    {
     "data": {
      "text/html": [
       "<div>\n",
       "<style scoped>\n",
       "    .dataframe tbody tr th:only-of-type {\n",
       "        vertical-align: middle;\n",
       "    }\n",
       "\n",
       "    .dataframe tbody tr th {\n",
       "        vertical-align: top;\n",
       "    }\n",
       "\n",
       "    .dataframe thead th {\n",
       "        text-align: right;\n",
       "    }\n",
       "</style>\n",
       "<table border=\"1\" class=\"dataframe\">\n",
       "  <thead>\n",
       "    <tr style=\"text-align: right;\">\n",
       "      <th></th>\n",
       "      <th>age</th>\n",
       "      <th>workclass</th>\n",
       "      <th>fnlwgt</th>\n",
       "      <th>education</th>\n",
       "      <th>education_num</th>\n",
       "      <th>marital_status</th>\n",
       "      <th>occupation</th>\n",
       "      <th>relationship</th>\n",
       "      <th>race</th>\n",
       "      <th>sex</th>\n",
       "      <th>capital_gain</th>\n",
       "      <th>capital_loss</th>\n",
       "      <th>hours_per_week</th>\n",
       "      <th>native_country</th>\n",
       "      <th>income</th>\n",
       "    </tr>\n",
       "  </thead>\n",
       "  <tbody>\n",
       "    <tr>\n",
       "      <th>2891</th>\n",
       "      <td>90</td>\n",
       "      <td>Private</td>\n",
       "      <td>171956</td>\n",
       "      <td>Some_college</td>\n",
       "      <td>10</td>\n",
       "      <td>Separated</td>\n",
       "      <td>Adm_clerical</td>\n",
       "      <td>Own_child</td>\n",
       "      <td>White</td>\n",
       "      <td>Female</td>\n",
       "      <td>0</td>\n",
       "      <td>0</td>\n",
       "      <td>40</td>\n",
       "      <td>Puerto_Rico</td>\n",
       "      <td>&lt;=50K</td>\n",
       "    </tr>\n",
       "    <tr>\n",
       "      <th>4070</th>\n",
       "      <td>90</td>\n",
       "      <td>Private</td>\n",
       "      <td>313986</td>\n",
       "      <td>11th</td>\n",
       "      <td>7</td>\n",
       "      <td>Never_married</td>\n",
       "      <td>Handlers_cleaners</td>\n",
       "      <td>Own_child</td>\n",
       "      <td>White</td>\n",
       "      <td>Male</td>\n",
       "      <td>0</td>\n",
       "      <td>0</td>\n",
       "      <td>40</td>\n",
       "      <td>United_States</td>\n",
       "      <td>&lt;=50K</td>\n",
       "    </tr>\n",
       "    <tr>\n",
       "      <th>11512</th>\n",
       "      <td>90</td>\n",
       "      <td>Private</td>\n",
       "      <td>87285</td>\n",
       "      <td>HS_grad</td>\n",
       "      <td>9</td>\n",
       "      <td>Never_married</td>\n",
       "      <td>Other_service</td>\n",
       "      <td>Own_child</td>\n",
       "      <td>White</td>\n",
       "      <td>Female</td>\n",
       "      <td>0</td>\n",
       "      <td>0</td>\n",
       "      <td>24</td>\n",
       "      <td>United_States</td>\n",
       "      <td>&lt;=50K</td>\n",
       "    </tr>\n",
       "    <tr>\n",
       "      <th>12451</th>\n",
       "      <td>90</td>\n",
       "      <td>Unknown</td>\n",
       "      <td>225063</td>\n",
       "      <td>Some_college</td>\n",
       "      <td>10</td>\n",
       "      <td>Never_married</td>\n",
       "      <td>?</td>\n",
       "      <td>Own_child</td>\n",
       "      <td>Asian_Pac_Islander</td>\n",
       "      <td>Male</td>\n",
       "      <td>0</td>\n",
       "      <td>0</td>\n",
       "      <td>10</td>\n",
       "      <td>South</td>\n",
       "      <td>&lt;=50K</td>\n",
       "    </tr>\n",
       "    <tr>\n",
       "      <th>18413</th>\n",
       "      <td>90</td>\n",
       "      <td>Private</td>\n",
       "      <td>313749</td>\n",
       "      <td>Bachelors</td>\n",
       "      <td>13</td>\n",
       "      <td>Never_married</td>\n",
       "      <td>Prof_specialty</td>\n",
       "      <td>Own_child</td>\n",
       "      <td>White</td>\n",
       "      <td>Female</td>\n",
       "      <td>0</td>\n",
       "      <td>0</td>\n",
       "      <td>10</td>\n",
       "      <td>United_States</td>\n",
       "      <td>&lt;=50K</td>\n",
       "    </tr>\n",
       "    <tr>\n",
       "      <th>18832</th>\n",
       "      <td>90</td>\n",
       "      <td>Private</td>\n",
       "      <td>115306</td>\n",
       "      <td>Masters</td>\n",
       "      <td>14</td>\n",
       "      <td>Never_married</td>\n",
       "      <td>Exec_managerial</td>\n",
       "      <td>Own_child</td>\n",
       "      <td>White</td>\n",
       "      <td>Female</td>\n",
       "      <td>0</td>\n",
       "      <td>0</td>\n",
       "      <td>40</td>\n",
       "      <td>United_States</td>\n",
       "      <td>&lt;=50K</td>\n",
       "    </tr>\n",
       "  </tbody>\n",
       "</table>\n",
       "</div>"
      ],
      "text/plain": [
       "       age workclass  fnlwgt     education  education_num marital_status  \\\n",
       "2891    90   Private  171956  Some_college             10      Separated   \n",
       "4070    90   Private  313986          11th              7  Never_married   \n",
       "11512   90   Private   87285       HS_grad              9  Never_married   \n",
       "12451   90   Unknown  225063  Some_college             10  Never_married   \n",
       "18413   90   Private  313749     Bachelors             13  Never_married   \n",
       "18832   90   Private  115306       Masters             14  Never_married   \n",
       "\n",
       "              occupation relationship                race     sex  \\\n",
       "2891        Adm_clerical    Own_child               White  Female   \n",
       "4070   Handlers_cleaners    Own_child               White    Male   \n",
       "11512      Other_service    Own_child               White  Female   \n",
       "12451                  ?    Own_child  Asian_Pac_Islander    Male   \n",
       "18413     Prof_specialty    Own_child               White  Female   \n",
       "18832    Exec_managerial    Own_child               White  Female   \n",
       "\n",
       "       capital_gain  capital_loss  hours_per_week native_country income  \n",
       "2891              0             0              40    Puerto_Rico  <=50K  \n",
       "4070              0             0              40  United_States  <=50K  \n",
       "11512             0             0              24  United_States  <=50K  \n",
       "12451             0             0              10          South  <=50K  \n",
       "18413             0             0              10  United_States  <=50K  \n",
       "18832             0             0              40  United_States  <=50K  "
      ]
     },
     "execution_count": 27,
     "metadata": {},
     "output_type": "execute_result"
    }
   ],
   "source": [
    "df.loc[(df['relationship'] == 'Own_child') & (df['age'] == 90)]"
   ]
  },
  {
   "cell_type": "markdown",
   "id": "fd980b94-df57-4cc2-9e7a-bf5f7d700dbb",
   "metadata": {},
   "source": [
    "These 90 year olds are supposedly also still working, half of them fulltime even. It is possible, of course, just not very plausible."
   ]
  },
  {
   "cell_type": "code",
   "execution_count": 28,
   "id": "c35acaef-28f0-466a-be8e-feb6ec94bfcc",
   "metadata": {},
   "outputs": [
    {
     "data": {
      "text/plain": [
       "count    539.000000\n",
       "mean      26.662338\n",
       "std       16.583715\n",
       "min        1.000000\n",
       "25%       14.000000\n",
       "50%       25.000000\n",
       "75%       40.000000\n",
       "max       99.000000\n",
       "Name: hours_per_week, dtype: float64"
      ]
     },
     "execution_count": 28,
     "metadata": {},
     "output_type": "execute_result"
    }
   ],
   "source": [
    "df.loc[df['age'] > 70, 'hours_per_week'].describe()"
   ]
  },
  {
   "cell_type": "markdown",
   "id": "f9d6a7f4-3b7f-4f01-a5f4-40b14dcc4bdf",
   "metadata": {},
   "source": [
    "Most people seem to be still working past the age of 70. Half of them works at least 25 hours a week. In further analysis, we need to keep this in mind. Something might be going on here that may not be explained by the data."
   ]
  },
  {
   "cell_type": "markdown",
   "id": "7b089d84-5cb3-4f33-9a42-948ce6b04c21",
   "metadata": {},
   "source": [
    "### 2.5 Occupation"
   ]
  },
  {
   "cell_type": "code",
   "execution_count": 29,
   "id": "7e4ff5a3-0aba-454b-b6e1-3584e8291693",
   "metadata": {},
   "outputs": [
    {
     "data": {
      "text/plain": [
       "occupation\n",
       "Prof_specialty       4136\n",
       "Craft_repair         4094\n",
       "Exec_managerial      4065\n",
       "Adm_clerical         3768\n",
       "Sales                3650\n",
       "Other_service        3291\n",
       "Machine_op_inspct    2000\n",
       "?                    1843\n",
       "Transport_moving     1597\n",
       "Handlers_cleaners    1369\n",
       "Farming_fishing       992\n",
       "Tech_support          927\n",
       "Protective_serv       649\n",
       "Priv_house_serv       147\n",
       "Armed_Forces            9\n",
       "Name: count, dtype: int64"
      ]
     },
     "execution_count": 29,
     "metadata": {},
     "output_type": "execute_result"
    }
   ],
   "source": [
    "df['occupation'].value_counts()"
   ]
  },
  {
   "cell_type": "markdown",
   "id": "e8fad1f5-dcc5-4049-b29b-eeefe88aa65d",
   "metadata": {},
   "source": [
    "We will replace *'?'* by *'Unknown'*."
   ]
  },
  {
   "cell_type": "code",
   "execution_count": 30,
   "id": "2aae8440-6191-4035-bc75-680de2e482b0",
   "metadata": {},
   "outputs": [],
   "source": [
    "df['occupation'] = df['occupation'].str.replace('?', 'Unknown')"
   ]
  },
  {
   "cell_type": "markdown",
   "id": "6cda53a3-4f39-4079-8d67-db6e5ff972d8",
   "metadata": {},
   "source": [
    "### 2.6 Ethnicity"
   ]
  },
  {
   "cell_type": "code",
   "execution_count": 31,
   "id": "2bb0db5b-9874-458e-9d8a-644a2227e19c",
   "metadata": {},
   "outputs": [
    {
     "data": {
      "text/plain": [
       "race\n",
       "White                 27795\n",
       "Black                  3122\n",
       "Asian_Pac_Islander     1038\n",
       "Amer_Indian_Eskimo      311\n",
       "Other                   271\n",
       "Name: count, dtype: int64"
      ]
     },
     "execution_count": 31,
     "metadata": {},
     "output_type": "execute_result"
    }
   ],
   "source": [
    "df['race'].value_counts()"
   ]
  },
  {
   "cell_type": "markdown",
   "id": "de57ad9b-0cd0-43b3-a319-7a0fdf5b8f24",
   "metadata": {},
   "source": [
    "No strange labels or numbers here."
   ]
  },
  {
   "cell_type": "markdown",
   "id": "9dc0de55-8f9b-4e91-865f-a2e95d2145a1",
   "metadata": {},
   "source": [
    "### 2.7 Native Country"
   ]
  },
  {
   "cell_type": "code",
   "execution_count": 32,
   "id": "5690e012-412c-4f2f-937b-ebed117f6185",
   "metadata": {},
   "outputs": [
    {
     "data": {
      "text/plain": [
       "native_country\n",
       "United_States                 29153\n",
       "Mexico                          639\n",
       "?                               582\n",
       "Philippines                     198\n",
       "Germany                         137\n",
       "Canada                          121\n",
       "Puerto_Rico                     114\n",
       "El_Salvador                     106\n",
       "India                           100\n",
       "Cuba                             95\n",
       "England                          90\n",
       "Jamaica                          81\n",
       "South                            80\n",
       "China                            75\n",
       "Italy                            73\n",
       "Dominican_Republic               70\n",
       "Vietnam                          67\n",
       "Guatemala                        62\n",
       "Japan                            62\n",
       "Poland                           60\n",
       "Columbia                         59\n",
       "Taiwan                           51\n",
       "Haiti                            44\n",
       "Iran                             43\n",
       "Portugal                         37\n",
       "Nicaragua                        34\n",
       "Peru                             31\n",
       "France                           29\n",
       "Greece                           29\n",
       "Ecuador                          28\n",
       "Ireland                          24\n",
       "Hong                             20\n",
       "Trinadad&Tobago                  19\n",
       "Cambodia                         19\n",
       "Thailand                         18\n",
       "Laos                             18\n",
       "Yugoslavia                       16\n",
       "Outlying_US(Guam_USVI_etc)       14\n",
       "Honduras                         13\n",
       "Hungary                          13\n",
       "Scotland                         12\n",
       "Holand_Netherlands                1\n",
       "Name: count, dtype: int64"
      ]
     },
     "execution_count": 32,
     "metadata": {},
     "output_type": "execute_result"
    }
   ],
   "source": [
    "df['native_country'].value_counts()"
   ]
  },
  {
   "cell_type": "markdown",
   "id": "deff0627-2676-4415-bd6f-82f83f2dadeb",
   "metadata": {},
   "source": [
    "We will replace *'?'* by *'Unknown'*."
   ]
  },
  {
   "cell_type": "code",
   "execution_count": 33,
   "id": "f10932e5-2735-482d-b32b-bcb94dbcecfa",
   "metadata": {},
   "outputs": [],
   "source": [
    "df['native_country'] = df['native_country'].str.replace('?', 'Unknown')"
   ]
  },
  {
   "cell_type": "markdown",
   "id": "4f2499b4-7f5e-47ca-aa38-f1ee218b7a4c",
   "metadata": {},
   "source": [
    "There are some typos in the labels:\n",
    "- Columbia instead of Colombia;\n",
    "- Holand instead of Holland (which is incorrect anyway, so this should just be Netherlands);\n",
    "- South (we have to look into the data more to see what is meant here, there are multiple countries whose names start with South);\n",
    "- Hong instead of Hong Kong;\n",
    "- Trinadad instead of Trinidad."
   ]
  },
  {
   "cell_type": "markdown",
   "id": "cd0b3c90-4f9f-46d9-9a10-e7e465fa6672",
   "metadata": {},
   "source": [
    "Also, Yugoslavia doesn't exist anymore. However, it's hard to determine from which specific country the people are, so we will just keep it as is. "
   ]
  },
  {
   "cell_type": "markdown",
   "id": "33a7d934-ccc4-4ae5-a0e1-6153d2742140",
   "metadata": {},
   "source": [
    "We will change `Trinidad&Tobago` into `Trinidad_Tobago` to make sure we won't run into any issues with special characters. We will shorten `Outlying_US(Guam_USVI_etc)` into `Outlying_US`."
   ]
  },
  {
   "cell_type": "markdown",
   "id": "7ec664cb-76ad-4256-9087-30b1a4fb7be4",
   "metadata": {},
   "source": [
    "Let's first check what `South` is supposed to be."
   ]
  },
  {
   "cell_type": "code",
   "execution_count": 34,
   "id": "b65a29b7-5006-4b8b-b217-056dfd042e80",
   "metadata": {},
   "outputs": [
    {
     "data": {
      "text/plain": [
       "race\n",
       "Asian_Pac_Islander    77\n",
       "Amer_Indian_Eskimo     2\n",
       "White                  1\n",
       "Name: count, dtype: int64"
      ]
     },
     "execution_count": 34,
     "metadata": {},
     "output_type": "execute_result"
    }
   ],
   "source": [
    "df.loc[df['native_country'] == 'South', 'race'].value_counts()"
   ]
  },
  {
   "cell_type": "markdown",
   "id": "0af592c1-ed48-48ab-a8a9-612e24b4a4a0",
   "metadata": {},
   "source": [
    "Most people from this country are Asian/Pacific Islander, which makes it safe to assume the country is South Korea."
   ]
  },
  {
   "cell_type": "code",
   "execution_count": 35,
   "id": "4b825c74-a4d6-4f28-ac4e-fd04042fb04d",
   "metadata": {},
   "outputs": [],
   "source": [
    "old_labels = ['Columbia', 'Holand_Netherlands', 'South', 'Hong', 'Trinadad&Tobago', 'Outlying_US(Guam_USVI_etc)']\n",
    "new_labels = ['Colombia', 'Netherlands', 'South_Korea', 'Hong_Kong', 'Trinidad_Tobago', 'Outlying_US']"
   ]
  },
  {
   "cell_type": "code",
   "execution_count": 36,
   "id": "bd57c647-dec2-4377-837f-30cfc26e5d76",
   "metadata": {},
   "outputs": [],
   "source": [
    "for i in range(len(old_labels)):\n",
    "    df['native_country'] = df['native_country'].str.replace(old_labels[i], new_labels[i])"
   ]
  },
  {
   "cell_type": "markdown",
   "id": "fc1625c4-f525-42c0-985f-c70ffb21395a",
   "metadata": {},
   "source": [
    "## 3. Summary"
   ]
  },
  {
   "cell_type": "markdown",
   "id": "1c0d379e-812d-4ca3-90f2-4910f058b517",
   "metadata": {},
   "source": [
    "We checked for duplicates, missing values, typos and other inconsistencies in the data and corrected them where possible."
   ]
  },
  {
   "cell_type": "code",
   "execution_count": 37,
   "id": "b28995ff-5d63-4d6d-82fe-83c807690f33",
   "metadata": {},
   "outputs": [
    {
     "name": "stdout",
     "output_type": "stream",
     "text": [
      "<class 'pandas.core.frame.DataFrame'>\n",
      "Index: 32537 entries, 0 to 32560\n",
      "Data columns (total 15 columns):\n",
      " #   Column          Non-Null Count  Dtype \n",
      "---  ------          --------------  ----- \n",
      " 0   age             32537 non-null  int64 \n",
      " 1   workclass       32537 non-null  object\n",
      " 2   fnlwgt          32537 non-null  int64 \n",
      " 3   education       32537 non-null  object\n",
      " 4   education_num   32537 non-null  int64 \n",
      " 5   marital_status  32537 non-null  object\n",
      " 6   occupation      32537 non-null  object\n",
      " 7   relationship    32537 non-null  object\n",
      " 8   race            32537 non-null  object\n",
      " 9   sex             32537 non-null  object\n",
      " 10  capital_gain    32537 non-null  int64 \n",
      " 11  capital_loss    32537 non-null  int64 \n",
      " 12  hours_per_week  32537 non-null  int64 \n",
      " 13  native_country  32537 non-null  object\n",
      " 14  income          32537 non-null  object\n",
      "dtypes: int64(6), object(9)\n",
      "memory usage: 4.0+ MB\n"
     ]
    }
   ],
   "source": [
    "df.info()"
   ]
  },
  {
   "cell_type": "markdown",
   "id": "8e32ff18-84d0-46fd-bfdd-ce09f0c569bf",
   "metadata": {},
   "source": [
    "We export the preprocessed data into a csv file so we can work on it in the next part."
   ]
  },
  {
   "cell_type": "code",
   "execution_count": 38,
   "id": "e362da4e-37fd-48f0-9baa-b796fd754682",
   "metadata": {},
   "outputs": [],
   "source": [
    "df.to_csv('preprocessed_data.csv', index=False)"
   ]
  }
 ],
 "metadata": {
  "kernelspec": {
   "display_name": "Python 3 (Spyder)",
   "language": "python3",
   "name": "python3"
  },
  "language_info": {
   "codemirror_mode": {
    "name": "ipython",
    "version": 3
   },
   "file_extension": ".py",
   "mimetype": "text/x-python",
   "name": "python",
   "nbconvert_exporter": "python",
   "pygments_lexer": "ipython3",
   "version": "3.12.9"
  }
 },
 "nbformat": 4,
 "nbformat_minor": 5
}
